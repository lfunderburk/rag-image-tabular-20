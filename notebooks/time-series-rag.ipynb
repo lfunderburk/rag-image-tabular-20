{
 "cells": [
  {
   "cell_type": "code",
   "execution_count": 1,
   "metadata": {},
   "outputs": [],
   "source": [
    "import requests\n",
    "from dotenv import load_dotenv\n",
    "import os\n",
    "import sys\n",
    "import os\n",
    "sys.path.insert(0, os.path.abspath('..'))\n",
    "import pandas as pd\n",
    "load_dotenv('../.env')\n",
    "rapidapi_key = os.getenv('X-RapidAPI-Key')\n",
    "open_ai_key = os.getenv('OPENAI')\n"
   ]
  },
  {
   "cell_type": "code",
   "execution_count": 2,
   "metadata": {},
   "outputs": [],
   "source": [
    "url = \"https://everyearthquake.p.rapidapi.com/earthquakesByDate\"\n",
    "\n",
    "querystring = {\"startDate\":\"2021-01-01\",\n",
    "               \"endDate\":\"2023-12-10\",\n",
    "               \"start\":\"1\",\"count\":\"100\",\n",
    "               \"type\":\"earthquake\",\n",
    "               \"latitude\":\"33.962523\",\n",
    "               \"longitude\":\"-118.3706975\",\n",
    "               \"radius\":\"1000\",\n",
    "               \"units\":\"miles\"\n",
    "               ,\"magnitude\":\"3\",\n",
    "               \"intensity\":\"1\"}\n",
    "\n",
    "headers = {\n",
    "\t\"X-RapidAPI-Key\": rapidapi_key,\n",
    "\t\"X-RapidAPI-Host\": \"everyearthquake.p.rapidapi.com\"\n",
    "}\n",
    "\n",
    "response = requests.get(url, headers=headers, params=querystring)\n"
   ]
  },
  {
   "cell_type": "code",
   "execution_count": 3,
   "metadata": {},
   "outputs": [],
   "source": [
    "import re \n",
    "import json\n",
    "data=response.json()['data']\n",
    "for item in data:\n",
    "    item['title'] = re.sub(r\"\\bM\\b\", \"Earthquake with Magnitude\", item['title'])\n",
    "\n",
    "\n",
    "with open('earthquakes.json', 'w') as f:\n",
    "    json.dump(data, f)"
   ]
  },
  {
   "cell_type": "code",
   "execution_count": null,
   "metadata": {},
   "outputs": [],
   "source": [
    "import json\n",
    "import pandas as pd\n",
    "\n"
   ]
  },
  {
   "cell_type": "code",
   "execution_count": null,
   "metadata": {},
   "outputs": [],
   "source": [
    "from src.jsonconverter import JsonToDocument\n",
    "\n",
    "converter = JsonToDocument(content_field=\"title\")\n",
    "results = converter.run(sources=[\"earthquakes.json\"])\n",
    "documents = results[\"documents\"]"
   ]
  },
  {
   "cell_type": "markdown",
   "metadata": {},
   "source": [
    "## Build Indexing pipeline"
   ]
  },
  {
   "cell_type": "code",
   "execution_count": 4,
   "metadata": {},
   "outputs": [
    {
     "name": "stderr",
     "output_type": "stream",
     "text": [
      "/Users/macpro/anaconda3/envs/image-rag/lib/python3.10/site-packages/tqdm/auto.py:21: TqdmWarning: IProgress not found. Please update jupyter and ipywidgets. See https://ipywidgets.readthedocs.io/en/stable/user_install.html\n",
      "  from .autonotebook import tqdm as notebook_tqdm\n"
     ]
    }
   ],
   "source": [
    "from src.jsonconverter import JsonToDocument\n",
    "\n",
    "from haystack import Pipeline\n",
    "from haystack.document_stores import InMemoryDocumentStore\n",
    "from haystack.components.writers import DocumentWriter\n",
    "\n",
    "\n",
    "document_store = InMemoryDocumentStore()\n",
    "converter = JsonToDocument(content_field=\"title\", flatten_field=None, one_doc_per_row=True)\n",
    "writer = DocumentWriter(document_store=document_store)\n",
    "\n",
    "indexing_pipeline = Pipeline()\n",
    "indexing_pipeline.add_component(\"converter\", converter)\n",
    "indexing_pipeline.add_component(\"writer\", writer)\n",
    "\n",
    "indexing_pipeline.connect(\"converter\", \"writer\")\n"
   ]
  },
  {
   "cell_type": "code",
   "execution_count": 5,
   "metadata": {},
   "outputs": [
    {
     "name": "stderr",
     "output_type": "stream",
     "text": [
      "Converting JSON files to Documents: 100%|██████████| 1/1 [00:00<00:00, 103.15it/s]\n"
     ]
    },
    {
     "data": {
      "text/plain": [
       "{'writer': {'documents_written': 100}}"
      ]
     },
     "execution_count": 5,
     "metadata": {},
     "output_type": "execute_result"
    }
   ],
   "source": [
    "indexing_pipeline.run(data={\"converter\":{\"sources\": [\"earthquakes.json\"]}})"
   ]
  },
  {
   "cell_type": "code",
   "execution_count": 25,
   "metadata": {},
   "outputs": [],
   "source": [
    "filters_exact_match = {\n",
    "    \"meta['magnitude']\": {\"$eq\": '3.7'}\n",
    "}\n",
    "#document_store.filter_documents()"
   ]
  },
  {
   "cell_type": "markdown",
   "metadata": {},
   "source": [
    "### Question and Answering pipeline"
   ]
  },
  {
   "cell_type": "code",
   "execution_count": 6,
   "metadata": {},
   "outputs": [],
   "source": [
    "from haystack.components.builders.answer_builder import AnswerBuilder\n",
    "from haystack.components.builders.prompt_builder import PromptBuilder\n",
    "from haystack.components.generators import GPTGenerator\n",
    "from haystack.components.retrievers import InMemoryBM25Retriever\n",
    "from haystack.document_stores import InMemoryDocumentStore\n",
    "\n",
    "######## Complete this section #############\n",
    "prompt_template = \"\"\"\\\n",
    "Given these documents, answer the question.\\nDocuments:\n",
    "    {% for doc in documents %}\n",
    "        {{ doc.content }}\n",
    "    {% endfor %}\n",
    "\n",
    "    \\nQuestion: {{question}}\n",
    "    \\nAnswer:\n",
    "\n",
    "\n",
    "\"\"\"\n",
    "prompt_builder = PromptBuilder(prompt_template)\n",
    "############################################\n",
    "retriever = InMemoryBM25Retriever(document_store=document_store)\n",
    "llm = GPTGenerator(api_key=open_ai_key,\n",
    "                   model_name='gpt-4')"
   ]
  },
  {
   "cell_type": "code",
   "execution_count": 7,
   "metadata": {},
   "outputs": [],
   "source": [
    "rag_pipeline = Pipeline()\n",
    "rag_pipeline.add_component(instance=retriever, name=\"retriever\")\n",
    "rag_pipeline.add_component(instance=prompt_builder, name=\"prompt_builder\")\n",
    "rag_pipeline.add_component(instance=llm, name=\"llm\")\n",
    "rag_pipeline.add_component(instance=AnswerBuilder(), name=\"answer_builder\")\n",
    "rag_pipeline.connect(\"retriever\", \"prompt_builder.documents\")\n",
    "rag_pipeline.connect(\"prompt_builder\", \"llm\")\n",
    "rag_pipeline.connect(\"llm.replies\", \"answer_builder.replies\")\n",
    "rag_pipeline.connect(\"llm.metadata\", \"answer_builder.metadata\")\n",
    "rag_pipeline.connect(\"retriever\", \"answer_builder.documents\")"
   ]
  },
  {
   "cell_type": "code",
   "execution_count": 8,
   "metadata": {},
   "outputs": [
    {
     "name": "stderr",
     "output_type": "stream",
     "text": [
      "Ranking by BM25...: 100%|██████████| 100/100 [00:00<00:00, 179858.66 docs/s]\n"
     ]
    }
   ],
   "source": [
    "question = \"Where did the earthquake happen?\"\n",
    "\n",
    "result = rag_pipeline.run(\n",
    "    {\n",
    "        \"retriever\": {\"query\": question},\n",
    "        \"prompt_builder\": {\"question\": question},\n",
    "        \"answer_builder\": {\"query\": question},\n",
    "    }\n",
    ")\n",
    "                     \n"
   ]
  },
  {
   "cell_type": "code",
   "execution_count": 13,
   "metadata": {},
   "outputs": [
    {
     "data": {
      "text/plain": [
       "'The earthquakes happened near the coast of Oregon, 7km NW of The Geysers, CA, Washington, Utah, Nevada, and western Texas.'"
      ]
     },
     "execution_count": 13,
     "metadata": {},
     "output_type": "execute_result"
    }
   ],
   "source": [
    "result['answer_builder']['answers'][0].data"
   ]
  },
  {
   "cell_type": "code",
   "execution_count": 14,
   "metadata": {},
   "outputs": [
    {
     "name": "stderr",
     "output_type": "stream",
     "text": [
      "Ranking by BM25...: 100%|██████████| 100/100 [00:00<00:00, 128699.11 docs/s]\n"
     ]
    }
   ],
   "source": [
    "question = \"Identify all entries containing information on earthquakes with a magnitude equal to 4 or higher? Provide the location and magnitude\"\n",
    "\n",
    "result = rag_pipeline.run(\n",
    "    {\n",
    "        \"retriever\": {\"query\": question},\n",
    "        \"prompt_builder\": {\"question\": question},\n",
    "        \"answer_builder\": {\"query\": question},\n",
    "    }\n",
    ")"
   ]
  },
  {
   "cell_type": "code",
   "execution_count": 18,
   "metadata": {},
   "outputs": [
    {
     "data": {
      "text/plain": [
       "['Earthquake with Magnitude 4.0 - 7 km NW of The Geysers, CA',\n",
       " '',\n",
       " 'Earthquake with Magnitude 4.3 - Washington',\n",
       " '',\n",
       " 'Earthquake with Magnitude 4.3 - Nevada',\n",
       " '',\n",
       " 'Earthquake with Magnitude 4.0 - western Texas',\n",
       " '',\n",
       " 'Earthquake with Magnitude 4.3 - western Texas']"
      ]
     },
     "execution_count": 18,
     "metadata": {},
     "output_type": "execute_result"
    }
   ],
   "source": [
    "result['answer_builder']['answers'][0].data.split('\\n')"
   ]
  },
  {
   "cell_type": "code",
   "execution_count": 16,
   "metadata": {},
   "outputs": [],
   "source": [
    "import pandas as pd\n",
    "with open('earthquakes.json', 'r') as f:\n",
    "    data_r = json.load(f)\n",
    "\n",
    "df = pd.DataFrame(data_r)"
   ]
  },
  {
   "cell_type": "code",
   "execution_count": 21,
   "metadata": {},
   "outputs": [
    {
     "data": {
      "text/html": [
       "<div>\n",
       "<style scoped>\n",
       "    .dataframe tbody tr th:only-of-type {\n",
       "        vertical-align: middle;\n",
       "    }\n",
       "\n",
       "    .dataframe tbody tr th {\n",
       "        vertical-align: top;\n",
       "    }\n",
       "\n",
       "    .dataframe thead th {\n",
       "        text-align: right;\n",
       "    }\n",
       "</style>\n",
       "<table border=\"1\" class=\"dataframe\">\n",
       "  <thead>\n",
       "    <tr style=\"text-align: right;\">\n",
       "      <th></th>\n",
       "      <th>id</th>\n",
       "      <th>magnitude</th>\n",
       "      <th>type</th>\n",
       "      <th>title</th>\n",
       "      <th>date</th>\n",
       "      <th>time</th>\n",
       "      <th>updated</th>\n",
       "      <th>url</th>\n",
       "      <th>detailUrl</th>\n",
       "      <th>felt</th>\n",
       "      <th>...</th>\n",
       "      <th>location</th>\n",
       "      <th>continent</th>\n",
       "      <th>country</th>\n",
       "      <th>subnational</th>\n",
       "      <th>city</th>\n",
       "      <th>locality</th>\n",
       "      <th>postcode</th>\n",
       "      <th>what3words</th>\n",
       "      <th>timezone</th>\n",
       "      <th>locationDetails</th>\n",
       "    </tr>\n",
       "  </thead>\n",
       "  <tbody>\n",
       "    <tr>\n",
       "      <th>4</th>\n",
       "      <td>tx2023xtoa</td>\n",
       "      <td>4</td>\n",
       "      <td>earthquake</td>\n",
       "      <td>Earthquake with Magnitude 4.0 - western Texas</td>\n",
       "      <td>2023-12-04T23:59:09</td>\n",
       "      <td>1701734349290</td>\n",
       "      <td>1701804532439</td>\n",
       "      <td>https://earthquake.usgs.gov/earthquakes/eventp...</td>\n",
       "      <td>https://earthquake.usgs.gov/earthquakes/feed/v...</td>\n",
       "      <td>6</td>\n",
       "      <td>...</td>\n",
       "      <td>western Texas</td>\n",
       "      <td>North America</td>\n",
       "      <td>United States of America (the)</td>\n",
       "      <td>Texas</td>\n",
       "      <td>Van Horn</td>\n",
       "      <td>Culberson County</td>\n",
       "      <td></td>\n",
       "      <td>hasty.misty.private</td>\n",
       "      <td>-360</td>\n",
       "      <td>[{'id': '9', 'wikidataId': 'Q49', 'name': 'Nor...</td>\n",
       "    </tr>\n",
       "    <tr>\n",
       "      <th>26</th>\n",
       "      <td>tx2023vqus</td>\n",
       "      <td>4</td>\n",
       "      <td>earthquake</td>\n",
       "      <td>Earthquake with Magnitude 4.0 - 20 km N of Sta...</td>\n",
       "      <td>2023-11-05T00:49:52</td>\n",
       "      <td>1699145392013</td>\n",
       "      <td>1699216610576</td>\n",
       "      <td>https://earthquake.usgs.gov/earthquakes/eventp...</td>\n",
       "      <td>https://earthquake.usgs.gov/earthquakes/feed/v...</td>\n",
       "      <td>10</td>\n",
       "      <td>...</td>\n",
       "      <td>Stanton, Texas</td>\n",
       "      <td>North America</td>\n",
       "      <td>United States of America (the)</td>\n",
       "      <td>Texas</td>\n",
       "      <td>Barstow-Pyote</td>\n",
       "      <td>Monahans</td>\n",
       "      <td>79777</td>\n",
       "      <td>interview.lanky.fried</td>\n",
       "      <td>-300</td>\n",
       "      <td>[{'id': '89284', 'wikidataId': '', 'name': '48...</td>\n",
       "    </tr>\n",
       "    <tr>\n",
       "      <th>77</th>\n",
       "      <td>us7000kr5e</td>\n",
       "      <td>4</td>\n",
       "      <td>earthquake</td>\n",
       "      <td>Earthquake with Magnitude 4.0 - 17 km SSW of W...</td>\n",
       "      <td>2023-08-26T08:38:44</td>\n",
       "      <td>1693039124726</td>\n",
       "      <td>1693064910286</td>\n",
       "      <td>https://earthquake.usgs.gov/earthquakes/eventp...</td>\n",
       "      <td>https://earthquake.usgs.gov/earthquakes/feed/v...</td>\n",
       "      <td>20</td>\n",
       "      <td>...</td>\n",
       "      <td>Weston, Colorado</td>\n",
       "      <td>North America</td>\n",
       "      <td>United States of America (the)</td>\n",
       "      <td>New Mexico</td>\n",
       "      <td>Raton</td>\n",
       "      <td>Raton</td>\n",
       "      <td>87740</td>\n",
       "      <td>dealings.grove.candlelit</td>\n",
       "      <td>-360</td>\n",
       "      <td>[{'id': '89689', 'wikidataId': '', 'name': '35...</td>\n",
       "    </tr>\n",
       "    <tr>\n",
       "      <th>80</th>\n",
       "      <td>tx2023qlls</td>\n",
       "      <td>4</td>\n",
       "      <td>earthquake</td>\n",
       "      <td>Earthquake with Magnitude 4.0 - 57 km S of Whi...</td>\n",
       "      <td>2023-08-22T22:58:00</td>\n",
       "      <td>1692745080335</td>\n",
       "      <td>1692806049708</td>\n",
       "      <td>https://earthquake.usgs.gov/earthquakes/eventp...</td>\n",
       "      <td>https://earthquake.usgs.gov/earthquakes/feed/v...</td>\n",
       "      <td>3</td>\n",
       "      <td>...</td>\n",
       "      <td>Whites City, New Mexico</td>\n",
       "      <td>North America</td>\n",
       "      <td>United States of America (the)</td>\n",
       "      <td>Texas</td>\n",
       "      <td>Van Horn</td>\n",
       "      <td>Culberson County</td>\n",
       "      <td></td>\n",
       "      <td>storybook.bailouts.fertile</td>\n",
       "      <td>-300</td>\n",
       "      <td>[{'id': '9', 'wikidataId': 'Q49', 'name': 'Nor...</td>\n",
       "    </tr>\n",
       "    <tr>\n",
       "      <th>81</th>\n",
       "      <td>us7000kq7r</td>\n",
       "      <td>4</td>\n",
       "      <td>earthquake</td>\n",
       "      <td>Earthquake with Magnitude 4.0 - 59 km NW of To...</td>\n",
       "      <td>2023-08-22T22:58:00</td>\n",
       "      <td>1692745080231</td>\n",
       "      <td>1692746034517</td>\n",
       "      <td>https://earthquake.usgs.gov/earthquakes/eventp...</td>\n",
       "      <td>https://earthquake.usgs.gov/earthquakes/feed/v...</td>\n",
       "      <td>0</td>\n",
       "      <td>...</td>\n",
       "      <td>Toyah, Texas</td>\n",
       "      <td>North America</td>\n",
       "      <td>United States of America (the)</td>\n",
       "      <td>Texas</td>\n",
       "      <td>Van Horn</td>\n",
       "      <td>Culberson County</td>\n",
       "      <td></td>\n",
       "      <td>picnic.publications.rehearsed</td>\n",
       "      <td>-300</td>\n",
       "      <td>[{'id': '9', 'wikidataId': 'Q49', 'name': 'Nor...</td>\n",
       "    </tr>\n",
       "  </tbody>\n",
       "</table>\n",
       "<p>5 rows × 43 columns</p>\n",
       "</div>"
      ],
      "text/plain": [
       "            id magnitude        type  \\\n",
       "4   tx2023xtoa         4  earthquake   \n",
       "26  tx2023vqus         4  earthquake   \n",
       "77  us7000kr5e         4  earthquake   \n",
       "80  tx2023qlls         4  earthquake   \n",
       "81  us7000kq7r         4  earthquake   \n",
       "\n",
       "                                                title                 date  \\\n",
       "4       Earthquake with Magnitude 4.0 - western Texas  2023-12-04T23:59:09   \n",
       "26  Earthquake with Magnitude 4.0 - 20 km N of Sta...  2023-11-05T00:49:52   \n",
       "77  Earthquake with Magnitude 4.0 - 17 km SSW of W...  2023-08-26T08:38:44   \n",
       "80  Earthquake with Magnitude 4.0 - 57 km S of Whi...  2023-08-22T22:58:00   \n",
       "81  Earthquake with Magnitude 4.0 - 59 km NW of To...  2023-08-22T22:58:00   \n",
       "\n",
       "             time        updated  \\\n",
       "4   1701734349290  1701804532439   \n",
       "26  1699145392013  1699216610576   \n",
       "77  1693039124726  1693064910286   \n",
       "80  1692745080335  1692806049708   \n",
       "81  1692745080231  1692746034517   \n",
       "\n",
       "                                                  url  \\\n",
       "4   https://earthquake.usgs.gov/earthquakes/eventp...   \n",
       "26  https://earthquake.usgs.gov/earthquakes/eventp...   \n",
       "77  https://earthquake.usgs.gov/earthquakes/eventp...   \n",
       "80  https://earthquake.usgs.gov/earthquakes/eventp...   \n",
       "81  https://earthquake.usgs.gov/earthquakes/eventp...   \n",
       "\n",
       "                                            detailUrl felt  ...  \\\n",
       "4   https://earthquake.usgs.gov/earthquakes/feed/v...    6  ...   \n",
       "26  https://earthquake.usgs.gov/earthquakes/feed/v...   10  ...   \n",
       "77  https://earthquake.usgs.gov/earthquakes/feed/v...   20  ...   \n",
       "80  https://earthquake.usgs.gov/earthquakes/feed/v...    3  ...   \n",
       "81  https://earthquake.usgs.gov/earthquakes/feed/v...    0  ...   \n",
       "\n",
       "                   location      continent                         country  \\\n",
       "4             western Texas  North America  United States of America (the)   \n",
       "26           Stanton, Texas  North America  United States of America (the)   \n",
       "77         Weston, Colorado  North America  United States of America (the)   \n",
       "80  Whites City, New Mexico  North America  United States of America (the)   \n",
       "81             Toyah, Texas  North America  United States of America (the)   \n",
       "\n",
       "   subnational           city          locality postcode  \\\n",
       "4        Texas       Van Horn  Culberson County            \n",
       "26       Texas  Barstow-Pyote          Monahans    79777   \n",
       "77  New Mexico          Raton             Raton    87740   \n",
       "80       Texas       Van Horn  Culberson County            \n",
       "81       Texas       Van Horn  Culberson County            \n",
       "\n",
       "                       what3words timezone  \\\n",
       "4             hasty.misty.private     -360   \n",
       "26          interview.lanky.fried     -300   \n",
       "77       dealings.grove.candlelit     -360   \n",
       "80     storybook.bailouts.fertile     -300   \n",
       "81  picnic.publications.rehearsed     -300   \n",
       "\n",
       "                                      locationDetails  \n",
       "4   [{'id': '9', 'wikidataId': 'Q49', 'name': 'Nor...  \n",
       "26  [{'id': '89284', 'wikidataId': '', 'name': '48...  \n",
       "77  [{'id': '89689', 'wikidataId': '', 'name': '35...  \n",
       "80  [{'id': '9', 'wikidataId': 'Q49', 'name': 'Nor...  \n",
       "81  [{'id': '9', 'wikidataId': 'Q49', 'name': 'Nor...  \n",
       "\n",
       "[5 rows x 43 columns]"
      ]
     },
     "execution_count": 21,
     "metadata": {},
     "output_type": "execute_result"
    }
   ],
   "source": [
    "df[df['magnitude']==\"4\"]"
   ]
  },
  {
   "cell_type": "code",
   "execution_count": null,
   "metadata": {},
   "outputs": [],
   "source": []
  }
 ],
 "metadata": {
  "kernelspec": {
   "display_name": "image-rag",
   "language": "python",
   "name": "python3"
  },
  "language_info": {
   "codemirror_mode": {
    "name": "ipython",
    "version": 3
   },
   "file_extension": ".py",
   "mimetype": "text/x-python",
   "name": "python",
   "nbconvert_exporter": "python",
   "pygments_lexer": "ipython3",
   "version": "3.10.0"
  }
 },
 "nbformat": 4,
 "nbformat_minor": 2
}
