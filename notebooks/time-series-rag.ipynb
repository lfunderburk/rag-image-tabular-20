{
 "cells": [
  {
   "cell_type": "code",
   "execution_count": 1,
   "metadata": {},
   "outputs": [],
   "source": [
    "import requests\n",
    "from dotenv import load_dotenv\n",
    "import os\n",
    "import sys\n",
    "import os\n",
    "sys.path.insert(0, os.path.abspath('..'))\n",
    "\n",
    "load_dotenv('../.env')\n",
    "rapidapi_key = os.getenv('X-RapidAPI-Key')\n",
    "open_ai_key = os.getenv('OPENAI')\n"
   ]
  },
  {
   "cell_type": "code",
   "execution_count": null,
   "metadata": {},
   "outputs": [],
   "source": [
    "url = \"https://everyearthquake.p.rapidapi.com/earthquakesByDate\"\n",
    "\n",
    "querystring = {\"startDate\":\"2021-01-01\",\n",
    "               \"endDate\":\"2023-12-10\",\n",
    "               \"start\":\"1\",\"count\":\"100\",\n",
    "               \"type\":\"earthquake\",\n",
    "               \"latitude\":\"33.962523\",\n",
    "               \"longitude\":\"-118.3706975\",\n",
    "               \"radius\":\"1000\",\n",
    "               \"units\":\"miles\"\n",
    "               ,\"magnitude\":\"3\",\n",
    "               \"intensity\":\"1\"}\n",
    "\n",
    "headers = {\n",
    "\t\"X-RapidAPI-Key\": rapidapi_key,\n",
    "\t\"X-RapidAPI-Host\": \"everyearthquake.p.rapidapi.com\"\n",
    "}\n",
    "\n",
    "response = requests.get(url, headers=headers, params=querystring)\n"
   ]
  },
  {
   "cell_type": "code",
   "execution_count": null,
   "metadata": {},
   "outputs": [],
   "source": [
    "import json\n",
    "data=response.json()['data']\n",
    "with open('earthquakes.json', 'w') as f:\n",
    "    json.dump(data, f)"
   ]
  },
  {
   "cell_type": "code",
   "execution_count": null,
   "metadata": {},
   "outputs": [],
   "source": [
    "import json\n",
    "with open('earthquakes.json', 'r') as f:\n",
    "    data_r = json.load(f)"
   ]
  },
  {
   "cell_type": "code",
   "execution_count": null,
   "metadata": {},
   "outputs": [],
   "source": [
    "import pandas as pd \n",
    "df = pd.json_normalize(data_r, record_path=None)"
   ]
  },
  {
   "cell_type": "code",
   "execution_count": null,
   "metadata": {},
   "outputs": [],
   "source": [
    "from src.jsonconverter import JsonToDocument\n",
    "\n",
    "converter = JsonToDocument(content_field=\"title\")\n",
    "results = converter.run(sources=[\"earthquakes.json\"])\n",
    "documents = results[\"documents\"]"
   ]
  },
  {
   "cell_type": "markdown",
   "metadata": {},
   "source": [
    "## Build Indexing pipeline"
   ]
  },
  {
   "cell_type": "code",
   "execution_count": 2,
   "metadata": {},
   "outputs": [
    {
     "name": "stderr",
     "output_type": "stream",
     "text": [
      "/Users/macpro/anaconda3/envs/image-rag/lib/python3.10/site-packages/tqdm/auto.py:21: TqdmWarning: IProgress not found. Please update jupyter and ipywidgets. See https://ipywidgets.readthedocs.io/en/stable/user_install.html\n",
      "  from .autonotebook import tqdm as notebook_tqdm\n"
     ]
    }
   ],
   "source": [
    "from src.jsonconverter import JsonToDocument\n",
    "\n",
    "from haystack import Pipeline\n",
    "from haystack.document_stores import InMemoryDocumentStore\n",
    "from haystack.components.writers import DocumentWriter\n",
    "\n",
    "\n",
    "document_store = InMemoryDocumentStore()\n",
    "converter = JsonToDocument(content_field=\"title\", flatten_field=None, one_doc_per_row=True)\n",
    "writer = DocumentWriter(document_store=document_store)\n",
    "\n",
    "indexing_pipeline = Pipeline()\n",
    "indexing_pipeline.add_component(\"converter\", converter)\n",
    "indexing_pipeline.add_component(\"writer\", writer)\n",
    "\n",
    "indexing_pipeline.connect(\"converter\", \"writer\")\n"
   ]
  },
  {
   "cell_type": "code",
   "execution_count": 3,
   "metadata": {},
   "outputs": [
    {
     "name": "stderr",
     "output_type": "stream",
     "text": [
      "Converting JSON files to Documents: 100%|██████████| 1/1 [00:00<00:00, 144.53it/s]\n"
     ]
    },
    {
     "data": {
      "text/plain": [
       "{'writer': {'documents_written': 100}}"
      ]
     },
     "execution_count": 3,
     "metadata": {},
     "output_type": "execute_result"
    }
   ],
   "source": [
    "indexing_pipeline.run(data={\"converter\":{\"sources\": [\"earthquakes.json\"]}})"
   ]
  },
  {
   "cell_type": "code",
   "execution_count": null,
   "metadata": {},
   "outputs": [],
   "source": [
    "document_store.filter_documents()"
   ]
  },
  {
   "cell_type": "markdown",
   "metadata": {},
   "source": [
    "### Question and Answering pipeline"
   ]
  },
  {
   "cell_type": "code",
   "execution_count": 4,
   "metadata": {},
   "outputs": [],
   "source": [
    "from haystack.components.builders.answer_builder import AnswerBuilder\n",
    "from haystack.components.builders.prompt_builder import PromptBuilder\n",
    "from haystack.components.generators import GPTGenerator\n",
    "from haystack.components.retrievers import InMemoryBM25Retriever\n",
    "from haystack.document_stores import InMemoryDocumentStore\n",
    "\n",
    "######## Complete this section #############\n",
    "prompt_template = \"\"\"\\\n",
    "Use the following context to answer the user's question. If the context provided doesn't answer the question - please respond with: \"I don't know\".\n",
    "\n",
    "### CONTEXT\n",
    "{% for doc in documents %}\n",
    "  {{ doc.content }}\n",
    "{% endfor %}\n",
    "\n",
    "### USER QUESTION\n",
    "{{query}}\n",
    "\n",
    "\n",
    "\"\"\"\n",
    "prompt_builder = PromptBuilder(prompt_template)\n",
    "############################################\n",
    "retriever = InMemoryBM25Retriever(document_store=document_store)\n",
    "llm = GPTGenerator(api_key=open_ai_key)"
   ]
  },
  {
   "cell_type": "code",
   "execution_count": 5,
   "metadata": {},
   "outputs": [],
   "source": [
    "rag_pipeline = Pipeline()\n",
    "rag_pipeline.add_component(instance=retriever, name=\"retriever\")\n",
    "rag_pipeline.add_component(instance=prompt_builder, name=\"prompt_builder\")\n",
    "rag_pipeline.add_component(instance=llm, name=\"llm\")\n",
    "rag_pipeline.add_component(instance=AnswerBuilder(), name=\"answer_builder\")\n",
    "rag_pipeline.connect(\"retriever\", \"prompt_builder.documents\")\n",
    "rag_pipeline.connect(\"prompt_builder\", \"llm\")\n",
    "rag_pipeline.connect(\"llm.replies\", \"answer_builder.replies\")\n",
    "rag_pipeline.connect(\"llm.metadata\", \"answer_builder.metadata\")\n",
    "rag_pipeline.connect(\"retriever\", \"answer_builder.documents\")"
   ]
  },
  {
   "cell_type": "code",
   "execution_count": 6,
   "metadata": {},
   "outputs": [
    {
     "name": "stderr",
     "output_type": "stream",
     "text": [
      "Ranking by BM25...: 100%|██████████| 100/100 [00:00<00:00, 149051.31 docs/s]\n"
     ]
    }
   ],
   "source": [
    "question = \"Where did the earthquake happen?\"\n",
    "result = rag_pipeline.run(\n",
    "            {\n",
    "                \"retriever\": {\"query\": question},\n",
    "                \"prompt_builder\": {\"query\": question},\n",
    "                \"answer_builder\": {\"query\": question},\n",
    "            }\n",
    "        )\n",
    "                     \n"
   ]
  },
  {
   "cell_type": "code",
   "execution_count": 8,
   "metadata": {},
   "outputs": [
    {
     "name": "stderr",
     "output_type": "stream",
     "text": [
      "Ranking by BM25...: 100%|██████████| 100/100 [00:00<00:00, 296626.87 docs/s]\n"
     ]
    }
   ],
   "source": [
    "question = \"Where did earthquakes of a magnitude of 5 or higher happen?\"\n",
    "result = rag_pipeline.run(\n",
    "            {\n",
    "                \"retriever\": {\"query\": question},\n",
    "                \"prompt_builder\": {\"query\": question},\n",
    "                \"answer_builder\": {\"query\": question},\n",
    "            }\n",
    "        )\n",
    "      "
   ]
  },
  {
   "cell_type": "code",
   "execution_count": 9,
   "metadata": {},
   "outputs": [
    {
     "data": {
      "text/plain": [
       "{'answer_builder': {'answers': [GeneratedAnswer(data='Based on the information provided, there are no earthquakes of a magnitude of 5 or higher mentioned in the context.', query='Where did earthquakes of a magnitude of 5 or higher happen?', metadata={'model': 'gpt-3.5-turbo-0613', 'index': 0, 'finish_reason': 'stop', 'usage': {'prompt_tokens': 232, 'completion_tokens': 23, 'total_tokens': 255}}, documents=[Document(id=ci40616032, content: 'M 3.3 - 2 km E of Fullerton, CA', meta: {'magnitude': '3.33', 'type': 'earthquake', 'title': 'M 3.3 - 2 km E of Fullerton, CA', 'date': '2023-12-05T04:09:58', 'time': '1701749398340', 'updated': '1701835576787', 'url': 'https://earthquake.usgs.gov/earthquakes/eventpage/ci40616032', 'detailUrl': 'https://earthquake.usgs.gov/earthquakes/feed/v1.0/detail/ci40616032.geojson', 'felt': '3236', 'cdi': '4', 'mmi': '4', 'alert': '', 'status': 'reviewed', 'tsunami': '0', 'sig': '531', 'net': 'ci', 'code': '40616032', 'ids': ',ci40616032,us7000lgbg,', 'sources': ',ci,us,', 'types': ',dyfi,focal-mechanism,nearby-cities,origin,phase-data,scitech-link,shakemap,', 'nst': '120', 'dmin': '0.01377', 'rms': '0.24', 'gap': '21', 'magType': 'ml', 'geometryType': 'Point', 'depth': '9.84', 'latitude': '33.876', 'longitude': '-117.904', 'place': '2 km E of Fullerton, CA', 'distanceKM': '2', 'placeOnly': 'E of Fullerton, CA', 'location': 'Fullerton, CA', 'continent': 'North America', 'country': 'United States of America (the)', 'subnational': 'California', 'city': 'Anaheim-Santa Ana-Garden Grove', 'locality': 'Fullerton', 'postcode': '92831', 'what3words': 'album.squish.voter', 'timezone': '-480', 'locationDetails': [{'id': '87541', 'wikidataId': '', 'name': 'Anaheim-Santa Ana-Garden Grove', 'description': '', 'geonameId': '12522858', 'adminLevel': '0'}, {'id': '89503', 'wikidataId': '', 'name': '06-059-90050', 'description': 'FIPS code', 'geonameId': '0', 'adminLevel': '0'}, {'id': '91426', 'wikidataId': '', 'name': '06-28000', 'description': 'FIPS code', 'geonameId': '0', 'adminLevel': '0'}, {'id': '9', 'wikidataId': 'Q49', 'name': 'North America', 'description': \"continent on the Earth's northwestern quadrant\", 'geonameId': '6255149', 'adminLevel': '0'}, {'id': '12409', 'wikidataId': '', 'name': '92831', 'description': 'postal code', 'geonameId': '0', 'adminLevel': '0'}, {'id': '36', 'wikidataId': 'Q578170', 'name': 'contiguous United States', 'description': '48 states of the United States apart from Alaska and Hawaii', 'geonameId': '0', 'adminLevel': '0'}, {'id': '87146', 'wikidataId': '', 'name': 'America/Los_Angeles', 'description': 'time zone', 'geonameId': '0', 'adminLevel': '0'}, {'id': '86034', 'wikidataId': 'Q30', 'name': 'United States of America (the)', 'description': 'country in North America', 'geonameId': '6252001', 'adminLevel': '2'}, {'id': '46', 'wikidataId': 'Q99', 'name': 'California', 'description': 'state of the United States of America', 'geonameId': '5332921', 'adminLevel': '4'}, {'id': '684', 'wikidataId': 'Q5925', 'name': 'Orange County', 'description': 'county in California, United States', 'geonameId': '5379524', 'adminLevel': '6'}, {'id': '1571', 'wikidataId': 'Q494723', 'name': 'Fullerton', 'description': 'city in Orange County, California, United States', 'geonameId': '5351247', 'adminLevel': '8'}]}, score: 2.0306157292651426), Document(id=ci39661746, content: 'M 3.1 - 8 km E of Yucaipa, CA', meta: {'magnitude': '3.06', 'type': 'earthquake', 'title': 'M 3.1 - 8 km E of Yucaipa, CA', 'date': '2023-09-08T23:40:28', 'time': '1694216428210', 'updated': '1694282692302', 'url': 'https://earthquake.usgs.gov/earthquakes/eventpage/ci39661746', 'detailUrl': 'https://earthquake.usgs.gov/earthquakes/feed/v1.0/detail/ci39661746.geojson', 'felt': '58', 'cdi': '4', 'mmi': '3', 'alert': '', 'status': 'reviewed', 'tsunami': '0', 'sig': '168', 'net': 'ci', 'code': '39661746', 'ids': ',ci39661746,us7000kuft,', 'sources': ',ci,us,', 'types': ',dyfi,focal-mechanism,nearby-cities,origin,phase-data,scitech-link,shakemap,', 'nst': '138', 'dmin': '0.06244', 'rms': '0.16', 'gap': '19', 'magType': 'ml', 'geometryType': 'Point', 'depth': '6.9', 'latitude': '34.0305', 'longitude': '-116.953', 'place': '8 km E of Yucaipa, CA', 'distanceKM': '8', 'placeOnly': 'E of Yucaipa, CA', 'location': 'Yucaipa, CA', 'continent': 'North America', 'country': 'United States of America (the)', 'subnational': 'California', 'city': 'Yucaipa', 'locality': 'Oak Glen', 'postcode': '92399', 'what3words': 'splint.tripods.freebies', 'timezone': '-420', 'locationDetails': [{'id': '54', 'wikidataId': 'Q7413436', 'name': 'San Bernardino National Forest', 'description': '', 'geonameId': '5391736', 'adminLevel': '0'}, {'id': '1017', 'wikidataId': '', 'name': '92399', 'description': 'postal code', 'geonameId': '0', 'adminLevel': '0'}, {'id': '89137', 'wikidataId': '', 'name': '06-071-93850', 'description': 'FIPS code', 'geonameId': '0', 'adminLevel': '0'}, {'id': '9', 'wikidataId': 'Q49', 'name': 'North America', 'description': \"continent on the Earth's northwestern quadrant\", 'geonameId': '6255149', 'adminLevel': '0'}, {'id': '87090', 'wikidataId': 'Q7073469', 'name': 'Oak Glen', 'description': 'census-designated place in San Bernardino County, California', 'geonameId': '5378298', 'adminLevel': '0'}, {'id': '36', 'wikidataId': 'Q578170', 'name': 'contiguous United States', 'description': '48 states of the United States apart from Alaska and Hawaii', 'geonameId': '0', 'adminLevel': '0'}, {'id': '90505', 'wikidataId': '', 'name': '06-52715', 'description': 'FIPS code', 'geonameId': '0', 'adminLevel': '0'}, {'id': '87146', 'wikidataId': '', 'name': 'America/Los_Angeles', 'description': 'time zone', 'geonameId': '0', 'adminLevel': '0'}, {'id': '86034', 'wikidataId': 'Q30', 'name': 'United States of America (the)', 'description': 'country in North America', 'geonameId': '6252001', 'adminLevel': '2'}, {'id': '46', 'wikidataId': 'Q99', 'name': 'California', 'description': 'state of the United States of America', 'geonameId': '5332921', 'adminLevel': '4'}, {'id': '101', 'wikidataId': 'Q108053', 'name': 'San Bernardino County', 'description': 'county in California, United States', 'geonameId': '5391726', 'adminLevel': '6'}, {'id': '1102', 'wikidataId': 'Q598567', 'name': 'Yucaipa', 'description': 'city in San Bernardino County, California', 'geonameId': '5411046', 'adminLevel': '8'}]}, score: 2.0306157292651426), Document(id=nc73944166, content: 'M 4.1 - 3 km S of Petrolia, CA', meta: {'magnitude': '4.09', 'type': 'earthquake', 'title': 'M 4.1 - 3 km S of Petrolia, CA', 'date': '2023-10-01T15:41:29', 'time': '1696174889620', 'updated': '1696214095127', 'url': 'https://earthquake.usgs.gov/earthquakes/eventpage/nc73944166', 'detailUrl': 'https://earthquake.usgs.gov/earthquakes/feed/v1.0/detail/nc73944166.geojson', 'felt': '88', 'cdi': '4', 'mmi': '5', 'alert': '', 'status': 'reviewed', 'tsunami': '1', 'sig': '292', 'net': 'nc', 'code': '73944166', 'ids': ',ew1696174890,nc73944166,at00s1uwx5,us6000lc42,', 'sources': ',ew,nc,at,us,', 'types': ',dyfi,focal-mechanism,impact-link,moment-tensor,nearby-cities,origin,phase-data,scitech-link,shake-alert,shakemap,', 'nst': '42', 'dmin': '0.02685', 'rms': '0.17', 'gap': '105', 'magType': 'mw', 'geometryType': 'Point', 'depth': '9.8', 'latitude': '40.2997', 'longitude': '-124.287', 'place': '3 km S of Petrolia, CA', 'distanceKM': '3', 'placeOnly': 'S of Petrolia, CA', 'location': 'Petrolia, CA', 'continent': 'North America', 'country': 'United States of America (the)', 'subnational': 'California', 'city': 'Ferndale', 'locality': 'Ferndale', 'postcode': '95558', 'what3words': 'crisp.unstable.hesitantly', 'timezone': '-420', 'locationDetails': [{'id': '89264', 'wikidataId': '', 'name': '06-023-90980', 'description': 'FIPS code', 'geonameId': '0', 'adminLevel': '0'}, {'id': '1156', 'wikidataId': '', 'name': '95558', 'description': 'postal code', 'geonameId': '0', 'adminLevel': '0'}, {'id': '9', 'wikidataId': 'Q49', 'name': 'North America', 'description': \"continent on the Earth's northwestern quadrant\", 'geonameId': '6255149', 'adminLevel': '0'}, {'id': '36', 'wikidataId': 'Q578170', 'name': 'contiguous United States', 'description': '48 states of the United States apart from Alaska and Hawaii', 'geonameId': '0', 'adminLevel': '0'}, {'id': '87146', 'wikidataId': '', 'name': 'America/Los_Angeles', 'description': 'time zone', 'geonameId': '0', 'adminLevel': '0'}, {'id': '3322', 'wikidataId': '', 'name': '', 'description': '', 'geonameId': '0', 'adminLevel': '2'}, {'id': '86034', 'wikidataId': 'Q30', 'name': 'United States of America (the)', 'description': 'country in North America', 'geonameId': '6252001', 'adminLevel': '2'}, {'id': '46', 'wikidataId': 'Q99', 'name': 'California', 'description': 'state of the United States of America', 'geonameId': '5332921', 'adminLevel': '4'}, {'id': '555', 'wikidataId': 'Q109651', 'name': 'Humboldt County', 'description': 'county in California, United States', 'geonameId': '5565500', 'adminLevel': '6'}, {'id': '32603', 'wikidataId': 'Q3069604', 'name': 'Ferndale', 'description': 'town in Humboldt County, California, United States', 'geonameId': '5563573', 'adminLevel': '8'}]}, score: 2.0306157292651426), Document(id=nc73944271, content: 'M 3.3 - 4 km S of Petrolia, CA', meta: {'magnitude': '3.29', 'type': 'earthquake', 'title': 'M 3.3 - 4 km S of Petrolia, CA', 'date': '2023-10-01T19:29:36', 'time': '1696188576760', 'updated': '1696201849150', 'url': 'https://earthquake.usgs.gov/earthquakes/eventpage/nc73944271', 'detailUrl': 'https://earthquake.usgs.gov/earthquakes/feed/v1.0/detail/nc73944271.geojson', 'felt': '4', 'cdi': '3', 'mmi': '4', 'alert': '', 'status': 'reviewed', 'tsunami': '0', 'sig': '168', 'net': 'nc', 'code': '73944271', 'ids': ',nc73944271,us6000lc4s,', 'sources': ',nc,us,', 'types': ',dyfi,focal-mechanism,nearby-cities,origin,phase-data,scitech-link,shakemap,', 'nst': '40', 'dmin': '0.0308', 'rms': '0.17', 'gap': '115', 'magType': 'ml', 'geometryType': 'Point', 'depth': '9.59', 'latitude': '40.297', 'longitude': '-124.287', 'place': '4 km S of Petrolia, CA', 'distanceKM': '4', 'placeOnly': 'S of Petrolia, CA', 'location': 'Petrolia, CA', 'continent': 'North America', 'country': 'United States of America (the)', 'subnational': 'California', 'city': 'Ferndale', 'locality': 'Ferndale', 'postcode': '95558', 'what3words': 'parsley.grapes.employer', 'timezone': '-420', 'locationDetails': [{'id': '89264', 'wikidataId': '', 'name': '06-023-90980', 'description': 'FIPS code', 'geonameId': '0', 'adminLevel': '0'}, {'id': '1156', 'wikidataId': '', 'name': '95558', 'description': 'postal code', 'geonameId': '0', 'adminLevel': '0'}, {'id': '9', 'wikidataId': 'Q49', 'name': 'North America', 'description': \"continent on the Earth's northwestern quadrant\", 'geonameId': '6255149', 'adminLevel': '0'}, {'id': '36', 'wikidataId': 'Q578170', 'name': 'contiguous United States', 'description': '48 states of the United States apart from Alaska and Hawaii', 'geonameId': '0', 'adminLevel': '0'}, {'id': '87146', 'wikidataId': '', 'name': 'America/Los_Angeles', 'description': 'time zone', 'geonameId': '0', 'adminLevel': '0'}, {'id': '86034', 'wikidataId': 'Q30', 'name': 'United States of America (the)', 'description': 'country in North America', 'geonameId': '6252001', 'adminLevel': '2'}, {'id': '46', 'wikidataId': 'Q99', 'name': 'California', 'description': 'state of the United States of America', 'geonameId': '5332921', 'adminLevel': '4'}, {'id': '555', 'wikidataId': 'Q109651', 'name': 'Humboldt County', 'description': 'county in California, United States', 'geonameId': '5565500', 'adminLevel': '6'}, {'id': '32603', 'wikidataId': 'Q3069604', 'name': 'Ferndale', 'description': 'town in Humboldt County, California, United States', 'geonameId': '5563573', 'adminLevel': '8'}]}, score: 2.0306157292651426), Document(id=ci39645714, content: 'M 3.1 - 8 km E of Ojai, CA', meta: {'magnitude': '3.07', 'type': 'earthquake', 'title': 'M 3.1 - 8 km E of Ojai, CA', 'date': '2023-08-20T22:55:15', 'time': '1692572115060', 'updated': '1692637935322', 'url': 'https://earthquake.usgs.gov/earthquakes/eventpage/ci39645714', 'detailUrl': 'https://earthquake.usgs.gov/earthquakes/feed/v1.0/detail/ci39645714.geojson', 'felt': '55', 'cdi': '6', 'mmi': '4', 'alert': '', 'status': 'reviewed', 'tsunami': '0', 'sig': '178', 'net': 'ci', 'code': '39645714', 'ids': ',ew1692572120,ci39645714,us7000kpr3,', 'sources': ',ew,ci,us,', 'types': ',dyfi,focal-mechanism,nearby-cities,origin,phase-data,scitech-link,shake-alert,shakemap,', 'nst': '89', 'dmin': '0.0188', 'rms': '0.36', 'gap': '47', 'magType': 'ml', 'geometryType': 'Point', 'depth': '1.21', 'latitude': '34.4447', 'longitude': '-119.157', 'place': '8 km E of Ojai, CA', 'distanceKM': '8', 'placeOnly': 'E of Ojai, CA', 'location': 'Ojai, CA', 'continent': 'North America', 'country': 'United States of America (the)', 'subnational': 'California', 'city': 'Ojai-Mira Monte', 'locality': 'Ojai-Mira Monte', 'postcode': '93023', 'what3words': 'scared.beads.inbound', 'timezone': '-420', 'locationDetails': [{'id': '87643', 'wikidataId': '', 'name': 'Ojai-Mira Monte', 'description': '', 'geonameId': '12523276', 'adminLevel': '0'}, {'id': '89756', 'wikidataId': '', 'name': '06-111-92245', 'description': 'FIPS code', 'geonameId': '0', 'adminLevel': '0'}, {'id': '9', 'wikidataId': 'Q49', 'name': 'North America', 'description': \"continent on the Earth's northwestern quadrant\", 'geonameId': '6255149', 'adminLevel': '0'}, {'id': '36', 'wikidataId': 'Q578170', 'name': 'contiguous United States', 'description': '48 states of the United States apart from Alaska and Hawaii', 'geonameId': '0', 'adminLevel': '0'}, {'id': '87146', 'wikidataId': '', 'name': 'America/Los_Angeles', 'description': 'time zone', 'geonameId': '0', 'adminLevel': '0'}, {'id': '951', 'wikidataId': '', 'name': '93023', 'description': 'postal code', 'geonameId': '0', 'adminLevel': '0'}, {'id': '86034', 'wikidataId': 'Q30', 'name': 'United States of America (the)', 'description': 'country in North America', 'geonameId': '6252001', 'adminLevel': '2'}, {'id': '46', 'wikidataId': 'Q99', 'name': 'California', 'description': 'state of the United States of America', 'geonameId': '5332921', 'adminLevel': '4'}, {'id': '919', 'wikidataId': 'Q108127', 'name': 'Ventura County', 'description': 'county in California, United States of America', 'geonameId': '5405889', 'adminLevel': '6'}]}, score: 2.0306157292651426), Document(id=us7000kuwn, content: 'M 3.6 - 6 km NNW of Segundo, Colorado', meta: {'magnitude': '3.6', 'type': 'earthquake', 'title': 'M 3.6 - 6 km NNW of Segundo, Colorado', 'date': '2023-09-10T23:46:13', 'time': '1694389573291', 'updated': '1694457113021', 'url': 'https://earthquake.usgs.gov/earthquakes/eventpage/us7000kuwn', 'detailUrl': 'https://earthquake.usgs.gov/earthquakes/feed/v1.0/detail/us7000kuwn.geojson', 'felt': '25', 'cdi': '6', 'mmi': '4', 'alert': '', 'status': 'reviewed', 'tsunami': '0', 'sig': '213', 'net': 'us', 'code': '7000kuwn', 'ids': ',us7000kuwn,', 'sources': ',us,', 'types': ',dyfi,origin,phase-data,shakemap,', 'nst': '26', 'dmin': '0.062', 'rms': '0.6', 'gap': '59', 'magType': 'mb', 'geometryType': 'Point', 'depth': '5.851', 'latitude': '37.1833', 'longitude': '-104.772', 'place': '6 km NNW of Segundo, Colorado', 'distanceKM': '6', 'placeOnly': 'NNW of Segundo, Colorado', 'location': 'Segundo, Colorado', 'continent': 'North America', 'country': 'United States of America (the)', 'subnational': 'Colorado', 'city': 'Weston', 'locality': 'Weston', 'postcode': '81091', 'what3words': 'fixing.capillary.equine', 'timezone': '-360', 'locationDetails': [{'id': '88640', 'wikidataId': 'Q7989353', 'name': 'Weston', 'description': 'unincorporated community in Colorado', 'geonameId': '5443912', 'adminLevel': '0'}, {'id': '90010', 'wikidataId': '', 'name': '08-071-93838', 'description': 'FIPS code', 'geonameId': '0', 'adminLevel': '0'}, {'id': '9', 'wikidataId': 'Q49', 'name': 'North America', 'description': \"continent on the Earth's northwestern quadrant\", 'geonameId': '6255149', 'adminLevel': '0'}, {'id': '3094', 'wikidataId': '', 'name': '81091', 'description': 'postal code', 'geonameId': '0', 'adminLevel': '0'}, {'id': '36', 'wikidataId': 'Q578170', 'name': 'contiguous United States', 'description': '48 states of the United States apart from Alaska and Hawaii', 'geonameId': '0', 'adminLevel': '0'}, {'id': '87162', 'wikidataId': '', 'name': 'America/Denver', 'description': 'time zone', 'geonameId': '0', 'adminLevel': '0'}, {'id': '85369', 'wikidataId': 'Q15672', 'name': 'Four Corners', 'description': 'region of the United States consisting of the southwestern corner of Colorado, northwestern corner of New Mexico, northeastern corner of Arizona and southeastern corner of Utah', 'geonameId': '5539379', 'adminLevel': '0'}, {'id': '86034', 'wikidataId': 'Q30', 'name': 'United States of America (the)', 'description': 'country in North America', 'geonameId': '6252001', 'adminLevel': '2'}, {'id': '1149', 'wikidataId': 'Q1261', 'name': 'Colorado', 'description': 'state of the United States of America', 'geonameId': '5417618', 'adminLevel': '4'}, {'id': '1150', 'wikidataId': 'Q128075', 'name': 'Las Animas County', 'description': 'county in Colorado, United States', 'geonameId': '5428059', 'adminLevel': '6'}]}, score: 1.8540745626945647), Document(id=uw61972566, content: 'M 3.1 - 2 km SE of Stanwood, Washington', meta: {'magnitude': '3.14', 'type': 'earthquake', 'title': 'M 3.1 - 2 km SE of Stanwood, Washington', 'date': '2023-11-17T00:47:40', 'time': '1700182060490', 'updated': '1700264449718', 'url': 'https://earthquake.usgs.gov/earthquakes/eventpage/uw61972566', 'detailUrl': 'https://earthquake.usgs.gov/earthquakes/feed/v1.0/detail/uw61972566.geojson', 'felt': '447', 'cdi': '3', 'mmi': '3', 'alert': '', 'status': 'reviewed', 'tsunami': '0', 'sig': '299', 'net': 'uw', 'code': '61972566', 'ids': ',uw61972566,us6000lnzy,', 'sources': ',uw,us,', 'types': ',dyfi,origin,phase-data,shakemap,', 'nst': '91', 'dmin': '0.0175', 'rms': '0.27', 'gap': '22', 'magType': 'ml', 'geometryType': 'Point', 'depth': '18.05', 'latitude': '48.2125', 'longitude': '-122.368', 'place': '2 km SE of Stanwood, Washington', 'distanceKM': '2', 'placeOnly': 'SE of Stanwood, Washington', 'location': 'Stanwood, Washington', 'continent': 'North America', 'country': 'United States of America (the)', 'subnational': 'Washington', 'city': 'Stanwood', 'locality': 'Port Susan', 'postcode': '98292', 'what3words': 'geese.varieties.logistical', 'timezone': '-480', 'locationDetails': [{'id': '91640', 'wikidataId': '', 'name': '53-061-93248', 'description': 'FIPS code', 'geonameId': '0', 'adminLevel': '0'}, {'id': '7948', 'wikidataId': '', 'name': '98292', 'description': 'postal code', 'geonameId': '0', 'adminLevel': '0'}, {'id': '91641', 'wikidataId': '', 'name': 'Port Susan', 'description': '', 'geonameId': '0', 'adminLevel': '0'}, {'id': '9', 'wikidataId': 'Q49', 'name': 'North America', 'description': \"continent on the Earth's northwestern quadrant\", 'geonameId': '6255149', 'adminLevel': '0'}, {'id': '36', 'wikidataId': 'Q578170', 'name': 'contiguous United States', 'description': '48 states of the United States apart from Alaska and Hawaii', 'geonameId': '0', 'adminLevel': '0'}, {'id': '87146', 'wikidataId': '', 'name': 'America/Los_Angeles', 'description': 'time zone', 'geonameId': '0', 'adminLevel': '0'}, {'id': '86034', 'wikidataId': 'Q30', 'name': 'United States of America (the)', 'description': 'country in North America', 'geonameId': '6252001', 'adminLevel': '2'}, {'id': '76', 'wikidataId': 'Q1223', 'name': 'Washington', 'description': 'state of the United States of America', 'geonameId': '5815135', 'adminLevel': '4'}, {'id': '463', 'wikidataId': 'Q110403', 'name': 'Snohomish County', 'description': 'county in the state of Washington, United States', 'geonameId': '5810982', 'adminLevel': '6'}, {'id': '27315', 'wikidataId': 'Q2601028', 'name': 'Stanwood', 'description': 'city in Washington', 'geonameId': '5811995', 'adminLevel': '8'}]}, score: 1.8540745626945647), Document(id=us7000l7zl, content: 'M 3.5 - 13 km W of Stanley, Idaho', meta: {'magnitude': '3.5', 'type': 'earthquake', 'title': 'M 3.5 - 13 km W of Stanley, Idaho', 'date': '2023-11-01T02:39:00', 'time': '1698806340658', 'updated': '1698880743159', 'url': 'https://earthquake.usgs.gov/earthquakes/eventpage/us7000l7zl', 'detailUrl': 'https://earthquake.usgs.gov/earthquakes/feed/v1.0/detail/us7000l7zl.geojson', 'felt': '6', 'cdi': '3', 'mmi': '4', 'alert': '', 'status': 'reviewed', 'tsunami': '0', 'sig': '190', 'net': 'us', 'code': '7000l7zl', 'ids': ',us7000l7zl,mb90031558,', 'sources': ',us,mb,', 'types': ',dyfi,origin,phase-data,shakemap,', 'nst': '8', 'dmin': '0.223', 'rms': '0.15', 'gap': '69', 'magType': 'ml', 'geometryType': 'Point', 'depth': '5', 'latitude': '44.2319', 'longitude': '-115.103', 'place': '13 km W of Stanley, Idaho', 'distanceKM': '13', 'placeOnly': 'W of Stanley, Idaho', 'location': 'Stanley, Idaho', 'continent': 'North America', 'country': 'United States of America (the)', 'subnational': 'Idaho', 'city': 'Stanley', 'locality': 'Sawtooth National Recreation Area', 'postcode': '83278', 'what3words': 'countryside.wanted.competitive', 'timezone': '-360', 'locationDetails': [{'id': '89286', 'wikidataId': '', 'name': '16-037-93335', 'description': 'FIPS code', 'geonameId': '0', 'adminLevel': '0'}, {'id': '4619', 'wikidataId': 'Q3609437', 'name': 'Sawtooth National Forest', 'description': 'national forest located in Idaho and Utah in the United States', 'geonameId': '5781116', 'adminLevel': '0'}, {'id': '69', 'wikidataId': '', 'name': '83278', 'description': 'postal code', 'geonameId': '0', 'adminLevel': '0'}, {'id': '9', 'wikidataId': 'Q49', 'name': 'North America', 'description': \"continent on the Earth's northwestern quadrant\", 'geonameId': '6255149', 'adminLevel': '0'}, {'id': '70', 'wikidataId': 'Q7428703', 'name': 'Sawtooth National Recreation Area', 'description': 'A national recreation area managed by the US Forest Service in the US state of Idaho', 'geonameId': '6951309', 'adminLevel': '0'}, {'id': '36', 'wikidataId': 'Q578170', 'name': 'contiguous United States', 'description': '48 states of the United States apart from Alaska and Hawaii', 'geonameId': '0', 'adminLevel': '0'}, {'id': '87249', 'wikidataId': '', 'name': 'America/Boise', 'description': 'time zone', 'geonameId': '0', 'adminLevel': '0'}, {'id': '86034', 'wikidataId': 'Q30', 'name': 'United States of America (the)', 'description': 'country in North America', 'geonameId': '6252001', 'adminLevel': '2'}, {'id': '64', 'wikidataId': 'Q1221', 'name': 'Idaho', 'description': 'state of the United States of America', 'geonameId': '5596512', 'adminLevel': '4'}, {'id': '65', 'wikidataId': 'Q488512', 'name': 'Custer County', 'description': 'county in central Idaho, United States', 'geonameId': '5590383', 'adminLevel': '6'}, {'id': '88137', 'wikidataId': 'Q1513555', 'name': 'Stanley', 'description': 'city in Custer County, Idaho, United States', 'geonameId': '5608726', 'adminLevel': '8'}]}, score: 1.8540745626945647), Document(id=ci39668658, content: 'M 3.1 - 2 km NW of Fontana, CA', meta: {'magnitude': '3.06', 'type': 'earthquake', 'title': 'M 3.1 - 2 km NW of Fontana, CA', 'date': '2023-09-19T09:54:27', 'time': '1695117267540', 'updated': '1695187529489', 'url': 'https://earthquake.usgs.gov/earthquakes/eventpage/ci39668658', 'detailUrl': 'https://earthquake.usgs.gov/earthquakes/feed/v1.0/detail/ci39668658.geojson', 'felt': '240', 'cdi': '3', 'mmi': '3', 'alert': '', 'status': 'reviewed', 'tsunami': '0', 'sig': '226', 'net': 'ci', 'code': '39668658', 'ids': ',ci39668658,', 'sources': ',ci,', 'types': ',dyfi,focal-mechanism,nearby-cities,origin,phase-data,scitech-link,shakemap,', 'nst': '150', 'dmin': '0.02881', 'rms': '0.22', 'gap': '15', 'magType': 'ml', 'geometryType': 'Point', 'depth': '6.8', 'latitude': '34.115', 'longitude': '-117.467', 'place': '2 km NW of Fontana, CA', 'distanceKM': '2', 'placeOnly': 'NW of Fontana, CA', 'location': 'Fontana, CA', 'continent': 'North America', 'country': 'United States of America (the)', 'subnational': 'California', 'city': 'San Bernardino', 'locality': 'Fontana', 'postcode': '92336', 'what3words': 'observes.promotes.maximum', 'timezone': '-420', 'locationDetails': [{'id': '87146', 'wikidataId': '', 'name': 'America/Los_Angeles', 'description': 'time zone', 'geonameId': '0', 'adminLevel': '0'}, {'id': '89188', 'wikidataId': '', 'name': '06-071-92770', 'description': 'FIPS code', 'geonameId': '0', 'adminLevel': '0'}, {'id': '89699', 'wikidataId': '', 'name': '06-24680', 'description': 'FIPS code', 'geonameId': '0', 'adminLevel': '0'}, {'id': '531', 'wikidataId': '', 'name': '92336', 'description': 'postal code', 'geonameId': '0', 'adminLevel': '0'}, {'id': '9', 'wikidataId': 'Q49', 'name': 'North America', 'description': \"continent on the Earth's northwestern quadrant\", 'geonameId': '6255149', 'adminLevel': '0'}, {'id': '36', 'wikidataId': 'Q578170', 'name': 'contiguous United States', 'description': '48 states of the United States apart from Alaska and Hawaii', 'geonameId': '0', 'adminLevel': '0'}, {'id': '86034', 'wikidataId': 'Q30', 'name': 'United States of America (the)', 'description': 'country in North America', 'geonameId': '6252001', 'adminLevel': '2'}, {'id': '46', 'wikidataId': 'Q99', 'name': 'California', 'description': 'state of the United States of America', 'geonameId': '5332921', 'adminLevel': '4'}, {'id': '101', 'wikidataId': 'Q108053', 'name': 'San Bernardino County', 'description': 'county in California, United States', 'geonameId': '5391726', 'adminLevel': '6'}, {'id': '1003', 'wikidataId': 'Q486168', 'name': 'San Bernardino', 'description': 'city in  San Bernardino County, California, United States', 'geonameId': '5391710', 'adminLevel': '8'}, {'id': '530', 'wikidataId': 'Q491128', 'name': 'Fontana', 'description': 'city in California, United States of America', 'geonameId': '5349755', 'adminLevel': '8'}]}, score: 1.8540745626945647), Document(id=nc73942611, content: 'M 3.6 - 6 km NNW of Walker, CA', meta: {'magnitude': '3.6', 'type': 'earthquake', 'title': 'M 3.6 - 6 km NNW of Walker, CA', 'date': '2023-09-27T20:00:21', 'time': '1695844821390', 'updated': '1695919825875', 'url': 'https://earthquake.usgs.gov/earthquakes/eventpage/nc73942611', 'detailUrl': 'https://earthquake.usgs.gov/earthquakes/feed/v1.0/detail/nc73942611.geojson', 'felt': '7', 'cdi': '3', 'mmi': '4', 'alert': '', 'status': 'reviewed', 'tsunami': '0', 'sig': '202', 'net': 'nc', 'code': '73942611', 'ids': ',nc73942611,nn00866429,', 'sources': ',nc,nn,', 'types': ',dyfi,focal-mechanism,nearby-cities,origin,phase-data,scitech-link,shakemap,', 'nst': '25', 'dmin': '0.02859', 'rms': '0.07', 'gap': '112', 'magType': 'ml', 'geometryType': 'Point', 'depth': '4.58', 'latitude': '38.5572', 'longitude': '-119.519', 'place': '6 km NNW of Walker, CA', 'distanceKM': '6', 'placeOnly': 'NNW of Walker, CA', 'location': 'Walker, CA', 'continent': 'North America', 'country': 'United States of America (the)', 'subnational': 'California', 'city': 'North Mono', 'locality': 'Coleville', 'postcode': '', 'what3words': 'verve.borders.mysteries', 'timezone': '-420', 'locationDetails': [{'id': '89187', 'wikidataId': '', 'name': '06-051-92195', 'description': 'FIPS code', 'geonameId': '0', 'adminLevel': '0'}, {'id': '87119', 'wikidataId': 'Q2411158', 'name': 'Coleville', 'description': 'census-designated place in Mono County, California', 'geonameId': '5338565', 'adminLevel': '0'}, {'id': '9', 'wikidataId': 'Q49', 'name': 'North America', 'description': \"continent on the Earth's northwestern quadrant\", 'geonameId': '6255149', 'adminLevel': '0'}, {'id': '81940', 'wikidataId': '', 'name': 'Bureau of Land Management', 'description': 'protected area', 'geonameId': '0', 'adminLevel': '0'}, {'id': '36', 'wikidataId': 'Q578170', 'name': 'contiguous United States', 'description': '48 states of the United States apart from Alaska and Hawaii', 'geonameId': '0', 'adminLevel': '0'}, {'id': '89447', 'wikidataId': '', 'name': '06-14484', 'description': 'FIPS code', 'geonameId': '0', 'adminLevel': '0'}, {'id': '87146', 'wikidataId': '', 'name': 'America/Los_Angeles', 'description': 'time zone', 'geonameId': '0', 'adminLevel': '0'}, {'id': '87550', 'wikidataId': '', 'name': 'North Mono', 'description': '', 'geonameId': '12523094', 'adminLevel': '0'}, {'id': '86034', 'wikidataId': 'Q30', 'name': 'United States of America (the)', 'description': 'country in North America', 'geonameId': '6252001', 'adminLevel': '2'}, {'id': '46', 'wikidataId': 'Q99', 'name': 'California', 'description': 'state of the United States of America', 'geonameId': '5332921', 'adminLevel': '4'}, {'id': '47', 'wikidataId': 'Q156366', 'name': 'Mono County', 'description': 'county in California, United States', 'geonameId': '5374091', 'adminLevel': '6'}]}, score: 1.8540745626945647)])]}}"
      ]
     },
     "execution_count": 9,
     "metadata": {},
     "output_type": "execute_result"
    }
   ],
   "source": [
    "result"
   ]
  },
  {
   "cell_type": "markdown",
   "metadata": {},
   "source": [
    "## Compare against the dataframe"
   ]
  },
  {
   "cell_type": "code",
   "execution_count": null,
   "metadata": {},
   "outputs": [],
   "source": [
    "df"
   ]
  },
  {
   "cell_type": "code",
   "execution_count": null,
   "metadata": {},
   "outputs": [],
   "source": []
  }
 ],
 "metadata": {
  "kernelspec": {
   "display_name": "image-rag",
   "language": "python",
   "name": "python3"
  },
  "language_info": {
   "codemirror_mode": {
    "name": "ipython",
    "version": 3
   },
   "file_extension": ".py",
   "mimetype": "text/x-python",
   "name": "python",
   "nbconvert_exporter": "python",
   "pygments_lexer": "ipython3",
   "version": "3.10.0"
  }
 },
 "nbformat": 4,
 "nbformat_minor": 2
}
