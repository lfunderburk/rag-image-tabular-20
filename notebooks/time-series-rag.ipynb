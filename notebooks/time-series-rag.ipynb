{
 "cells": [
  {
   "cell_type": "code",
   "execution_count": 1,
   "metadata": {},
   "outputs": [],
   "source": [
    "import requests\n",
    "from dotenv import load_dotenv\n",
    "import os\n",
    "import sys\n",
    "import os\n",
    "sys.path.insert(0, os.path.abspath('..'))\n",
    "\n",
    "load_dotenv('../.env')\n",
    "rapidapi_key = os.getenv('X-RapidAPI-Key')\n",
    "open_ai_key = os.getenv('OPENAI')\n"
   ]
  },
  {
   "cell_type": "code",
   "execution_count": null,
   "metadata": {},
   "outputs": [],
   "source": [
    "url = \"https://everyearthquake.p.rapidapi.com/earthquakesByDate\"\n",
    "\n",
    "querystring = {\"startDate\":\"2021-01-01\",\n",
    "               \"endDate\":\"2023-12-10\",\n",
    "               \"start\":\"1\",\"count\":\"100\",\n",
    "               \"type\":\"earthquake\",\n",
    "               \"latitude\":\"33.962523\",\n",
    "               \"longitude\":\"-118.3706975\",\n",
    "               \"radius\":\"1000\",\n",
    "               \"units\":\"miles\"\n",
    "               ,\"magnitude\":\"3\",\n",
    "               \"intensity\":\"1\"}\n",
    "\n",
    "headers = {\n",
    "\t\"X-RapidAPI-Key\": rapidapi_key,\n",
    "\t\"X-RapidAPI-Host\": \"everyearthquake.p.rapidapi.com\"\n",
    "}\n",
    "\n",
    "response = requests.get(url, headers=headers, params=querystring)\n"
   ]
  },
  {
   "cell_type": "code",
   "execution_count": null,
   "metadata": {},
   "outputs": [],
   "source": [
    "import pandas as pd \n",
    "df = pd.json_normalize(response.json()['data'], record_path=None)"
   ]
  },
  {
   "cell_type": "code",
   "execution_count": null,
   "metadata": {},
   "outputs": [],
   "source": [
    "import json\n",
    "data=response.json()['data']\n",
    "with open('earthquakes.json', 'w') as f:\n",
    "    json.dump(data, f)"
   ]
  },
  {
   "cell_type": "code",
   "execution_count": null,
   "metadata": {},
   "outputs": [],
   "source": [
    "from src.jsonconverter import JsonToDocument\n",
    "\n",
    "converter = JsonToDocument(content_field=\"title\")\n",
    "results = converter.run(sources=[\"earthquakes.json\"])\n",
    "documents = results[\"documents\"]"
   ]
  },
  {
   "cell_type": "markdown",
   "metadata": {},
   "source": [
    "## Build Indexing pipeline"
   ]
  },
  {
   "cell_type": "code",
   "execution_count": 2,
   "metadata": {},
   "outputs": [
    {
     "name": "stderr",
     "output_type": "stream",
     "text": [
      "/Users/macpro/anaconda3/envs/image-rag/lib/python3.10/site-packages/tqdm/auto.py:21: TqdmWarning: IProgress not found. Please update jupyter and ipywidgets. See https://ipywidgets.readthedocs.io/en/stable/user_install.html\n",
      "  from .autonotebook import tqdm as notebook_tqdm\n"
     ]
    }
   ],
   "source": [
    "from src.jsonconverter import JsonToDocument\n",
    "\n",
    "from haystack import Pipeline\n",
    "from haystack.document_stores import InMemoryDocumentStore\n",
    "from haystack.components.embedders import SentenceTransformersDocumentEmbedder\n",
    "from haystack.components.writers import DocumentWriter\n",
    "\n",
    "\n",
    "document_store = InMemoryDocumentStore()\n",
    "converter = JsonToDocument(content_field=\"title\", flatten_field=None, one_doc_per_row=True)\n",
    "embedder = SentenceTransformersDocumentEmbedder()\n",
    "writer = DocumentWriter(document_store=document_store)\n",
    "\n",
    "indexing_pipeline = Pipeline()\n",
    "indexing_pipeline.add_component(\"converter\", converter)\n",
    "indexing_pipeline.add_component(\"embedder\", embedder)\n",
    "indexing_pipeline.add_component(\"writer\", writer)\n",
    "\n",
    "indexing_pipeline.connect(\"converter\", \"embedder\")\n",
    "indexing_pipeline.connect(\"embedder\", \"writer\")"
   ]
  },
  {
   "cell_type": "code",
   "execution_count": 3,
   "metadata": {},
   "outputs": [
    {
     "name": "stderr",
     "output_type": "stream",
     "text": [
      "Converting JSON files to Documents: 100%|██████████| 1/1 [00:00<00:00,  2.03it/s]\n",
      "Batches: 100%|██████████| 4/4 [00:05<00:00,  1.30s/it]\n"
     ]
    },
    {
     "data": {
      "text/plain": [
       "{'writer': {'documents_written': 100}}"
      ]
     },
     "execution_count": 3,
     "metadata": {},
     "output_type": "execute_result"
    }
   ],
   "source": [
    "indexing_pipeline.run(data={\"converter\":{\"sources\": [\"earthquakes.json\"]}})"
   ]
  },
  {
   "cell_type": "code",
   "execution_count": null,
   "metadata": {},
   "outputs": [],
   "source": [
    "document_store.filter_documents()[0].dataframe.columns"
   ]
  },
  {
   "cell_type": "markdown",
   "metadata": {},
   "source": [
    "### Question and Answering pipeline"
   ]
  },
  {
   "cell_type": "code",
   "execution_count": 4,
   "metadata": {},
   "outputs": [],
   "source": [
    "\n",
    "from haystack.components.embedders import SentenceTransformersTextEmbedder\n",
    "from haystack.components.retrievers import InMemoryEmbeddingRetriever\n",
    "from haystack.components.builders.prompt_builder import PromptBuilder\n",
    "from haystack.components.generators import GPTGenerator\n",
    "\n",
    "######## Complete this section #############\n",
    "prompt_template = \"\"\"\\\n",
    "Use the following context to answer the user's question. If the context provided doesn't answer the question - please respond with: \"I don't know\".\n",
    "\n",
    "### CONTEXT\n",
    "{% for doc in documents %}\n",
    "  {% if doc.dataframe is not none and not doc.dataframe.empty %}\n",
    "    {% for column in doc.dataframe.columns %}\n",
    "      Column: {{ column }}\n",
    "      Values: \n",
    "      {% for value in doc.dataframe[column] %}\n",
    "        {{ value }}\n",
    "      {% endfor %}\n",
    "    {% endfor %}\n",
    "  {% else %}\n",
    "    {{ doc.content }}\n",
    "  {% endif %}\n",
    "{% endfor %}\n",
    "\n",
    "### USER QUESTION\n",
    "{{query}}\n",
    "\n",
    "\n",
    "\"\"\"\n",
    "prompt_builder = PromptBuilder(prompt_template)\n",
    "############################################\n",
    "query_embedder = SentenceTransformersTextEmbedder()\n",
    "retriever = InMemoryEmbeddingRetriever(document_store=document_store, top_k=2)\n",
    "llm = GPTGenerator(api_key=open_ai_key)"
   ]
  },
  {
   "cell_type": "code",
   "execution_count": 5,
   "metadata": {},
   "outputs": [],
   "source": [
    "pipeline = Pipeline()\n",
    "pipeline.add_component(instance=query_embedder, name=\"query_embedder\")\n",
    "pipeline.add_component(instance=retriever, name=\"retriever\")\n",
    "pipeline.add_component(instance=prompt_builder, name=\"prompt_builder\")\n",
    "pipeline.add_component(instance=llm, name=\"llm\")\n",
    "\n",
    "pipeline.connect(\"query_embedder.embedding\", \"retriever.query_embedding\")\n",
    "pipeline.connect(\"retriever.documents\", \"prompt_builder.documents\")\n",
    "pipeline.connect(\"prompt_builder\", \"llm\")"
   ]
  },
  {
   "cell_type": "code",
   "execution_count": 6,
   "metadata": {},
   "outputs": [
    {
     "name": "stderr",
     "output_type": "stream",
     "text": [
      "Batches: 100%|██████████| 1/1 [00:00<00:00,  3.47it/s]\n"
     ]
    },
    {
     "name": "stdout",
     "output_type": "stream",
     "text": [
      "The earthquake mentioned in the context happened 11 km east of Ocotillo, CA.\n"
     ]
    }
   ],
   "source": [
    "query = \"Where did the earthquake happen?\"\n",
    "result = pipeline.run(data={\"query_embedder\": {\"text\": query}, \"prompt_builder\": {\"query\": query}})\n",
    "print(result['llm']['replies'][0])"
   ]
  },
  {
   "cell_type": "code",
   "execution_count": 7,
   "metadata": {},
   "outputs": [
    {
     "name": "stderr",
     "output_type": "stream",
     "text": [
      "Batches: 100%|██████████| 1/1 [00:00<00:00,  3.22it/s]\n"
     ]
    },
    {
     "name": "stdout",
     "output_type": "stream",
     "text": [
      "The magnitudes of the earthquakes are as follows:\n",
      "\n",
      "1. Date: 2023-10-16, Location: 28 km W of Humboldt Hill, CA, Magnitude: 4.02.\n",
      "\n",
      "2. Date: 2023-12-01, Location: 11 km E of Ocotillo, CA, Magnitude: 4.77.\n"
     ]
    }
   ],
   "source": [
    "query = \"What were the magnitudes of the earthquakes? Provide the date,location, and magnitude.\"\n",
    "result = pipeline.run(data={\"query_embedder\": {\"text\": query}, \"prompt_builder\": {\"query\": query}})\n",
    "print(result['llm']['replies'][0])"
   ]
  },
  {
   "cell_type": "code",
   "execution_count": null,
   "metadata": {},
   "outputs": [],
   "source": []
  }
 ],
 "metadata": {
  "kernelspec": {
   "display_name": "image-rag",
   "language": "python",
   "name": "python3"
  },
  "language_info": {
   "codemirror_mode": {
    "name": "ipython",
    "version": 3
   },
   "file_extension": ".py",
   "mimetype": "text/x-python",
   "name": "python",
   "nbconvert_exporter": "python",
   "pygments_lexer": "ipython3",
   "version": "3.10.0"
  }
 },
 "nbformat": 4,
 "nbformat_minor": 2
}
